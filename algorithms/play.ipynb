{
 "cells": [
  {
   "cell_type": "markdown",
   "metadata": {
    "collapsed": true
   },
   "source": [
    "# Algorithms"
   ]
  },
  {
   "cell_type": "markdown",
   "metadata": {},
   "source": [
    "### Selection sort"
   ]
  },
  {
   "cell_type": "code",
   "execution_count": 3,
   "metadata": {
    "collapsed": false
   },
   "outputs": [
    {
     "name": "stdout",
     "output_type": "stream",
     "text": [
      "[3, 4, 5, 6, 7, 9]\n"
     ]
    }
   ],
   "source": [
    "array = [4, 6, 3, 9, 5, 7]\n",
    "\n",
    "def selection_sort(arr):\n",
    "    n = len(arr)\n",
    "    for i in range(n - 1):\n",
    "        min_idx = i\n",
    "        for j in range(i + 1, n):\n",
    "            if arr[j] < arr[min_idx]:\n",
    "                min_idx = j\n",
    "        temp = arr[min_idx]\n",
    "        arr[min_idx] = arr[i]\n",
    "        arr[i] = temp\n",
    "    return arr\n",
    "\n",
    "print selection_sort(array)"
   ]
  },
  {
   "cell_type": "markdown",
   "metadata": {},
   "source": [
    "### Insertion sort"
   ]
  },
  {
   "cell_type": "code",
   "execution_count": 2,
   "metadata": {
    "collapsed": false
   },
   "outputs": [
    {
     "name": "stdout",
     "output_type": "stream",
     "text": [
      "[3, 4, 5, 6, 7, 9]\n"
     ]
    }
   ],
   "source": [
    "array = [4, 6, 3, 9, 5, 7]\n",
    "\n",
    "def insertion_sort(arr):\n",
    "    n = len(arr)\n",
    "    for i in range(1, n):\n",
    "        key = arr[i]\n",
    "        j = i\n",
    "        while j > 0 and arr[j - 1] > key:\n",
    "            arr[j] = arr[j - 1]\n",
    "            j -= 1\n",
    "        arr[j] = key\n",
    "    return arr\n",
    "print insertion_sort(array)"
   ]
  },
  {
   "cell_type": "markdown",
   "metadata": {},
   "source": [
    "## Divide and Conquer"
   ]
  },
  {
   "cell_type": "markdown",
   "metadata": {},
   "source": [
    "### Merge sort (Incomplete)"
   ]
  },
  {
   "cell_type": "code",
   "execution_count": 49,
   "metadata": {
    "collapsed": false
   },
   "outputs": [
    {
     "name": "stdout",
     "output_type": "stream",
     "text": [
      "[1, 1, 2, 3, 4, 5, 6, 7, 8, 9]\n"
     ]
    }
   ],
   "source": [
    "import math\n",
    "\n",
    "array = [3, 5, 2, 7, 1, 8, 9, 4, 1, 6]\n",
    "\n",
    "def merge(a, b):\n",
    "    i = j = k = 0\n",
    "    m = len(a)\n",
    "    n = len(b)\n",
    "    res = [0] * (m + n)\n",
    "    while i < m and j < n:\n",
    "        if a[i] < b[j]:\n",
    "            res[k] = a[i]\n",
    "            i += 1\n",
    "        else:\n",
    "            res[k] = b[j]\n",
    "            j += 1\n",
    "        k += 1\n",
    "    while i < m:\n",
    "        res[k]= a[i]\n",
    "        i += 1\n",
    "        k += 1\n",
    "    while j < n:\n",
    "        res[k] = b[j]\n",
    "        j += 1\n",
    "        k += 1\n",
    "    return res\n",
    "\n",
    "def merge_sort(arr):\n",
    "    n = len(arr)\n",
    "    if n < 2:\n",
    "        return arr\n",
    "    mid = int(math.ceil(n / 2.0))\n",
    "    if n % 2 == 0:        \n",
    "        l = mid\n",
    "        r = n - mid\n",
    "    else:\n",
    "        mid = int(math.ceil(n / 2.0))\n",
    "        l = mid\n",
    "        r = n - mid + 1\n",
    "    left = arr[:l]\n",
    "    right = arr[r:]\n",
    "    left = merge_sort(left)\n",
    "    right = merge_sort(right)\n",
    "    return merge(left, right)\n",
    "\n",
    "print merge_sort(array)"
   ]
  },
  {
   "cell_type": "code",
   "execution_count": null,
   "metadata": {
    "collapsed": true
   },
   "outputs": [],
   "source": [
    "    "
   ]
  }
 ],
 "metadata": {
  "anaconda-cloud": {},
  "kernelspec": {
   "display_name": "Python [conda root]",
   "language": "python",
   "name": "conda-root-py"
  },
  "language_info": {
   "codemirror_mode": {
    "name": "ipython",
    "version": 2
   },
   "file_extension": ".py",
   "mimetype": "text/x-python",
   "name": "python",
   "nbconvert_exporter": "python",
   "pygments_lexer": "ipython2",
   "version": "2.7.12"
  }
 },
 "nbformat": 4,
 "nbformat_minor": 1
}
